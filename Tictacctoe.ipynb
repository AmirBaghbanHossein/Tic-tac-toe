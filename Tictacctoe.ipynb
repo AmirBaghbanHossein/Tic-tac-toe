{
 "cells": [
  {
   "cell_type": "code",
   "execution_count": null,
   "id": "249b9544",
   "metadata": {},
   "outputs": [
    {
     "name": "stdout",
     "output_type": "stream",
     "text": [
      "  |   |  \n",
      "-----\n",
      "  |   |  \n",
      "-----\n",
      "  |   |  \n",
      "-----\n"
     ]
    }
   ],
   "source": [
    "def print_board(board):\n",
    "    for row in board:\n",
    "        print(\" | \".join(row))\n",
    "        print(\"-\" * 5)\n",
    "\n",
    "def check_winner(board, player):\n",
    "    for row in board:\n",
    "        if all(cell == player for cell in row):\n",
    "            return True\n",
    "    for col in range(3):\n",
    "        if all(board[row][col] == player for row in range(3)):\n",
    "            return True\n",
    "    if all(board[i][i] == player for i in range(3)) or all(board[i][2 - i] == player for i in range(3)):\n",
    "        return True\n",
    "    return False\n",
    "\n",
    "def tic_tac_toe():\n",
    "    board = [[\" \" for _ in range(3)] for _ in range(3)]\n",
    "    player = \"X\"\n",
    "    for _ in range(9):\n",
    "        print_board(board)\n",
    "        row, col = map(int, input(f\"Player {player}, enter your move (row and col): \").split())\n",
    "        if board[row][col] == \" \":\n",
    "            board[row][col] = player\n",
    "            if check_winner(board, player):\n",
    "                print_board(board)\n",
    "                print(f\"Player {player} wins!\")\n",
    "                return\n",
    "            player = \"O\" if player == \"X\" else \"X\"\n",
    "        else:\n",
    "            print(\"Cell already taken. Try again!\")\n",
    "    print_board(board)\n",
    "    print(\"It's a draw!\")\n",
    "\n",
    "if __name__ == \"__main__\":\n",
    "    tic_tac_toe()"
   ]
  },
  {
   "cell_type": "code",
   "execution_count": null,
   "id": "f232e602",
   "metadata": {},
   "outputs": [],
   "source": []
  }
 ],
 "metadata": {
  "kernelspec": {
   "display_name": "Python 3 (ipykernel)",
   "language": "python",
   "name": "python3"
  },
  "language_info": {
   "codemirror_mode": {
    "name": "ipython",
    "version": 3
   },
   "file_extension": ".py",
   "mimetype": "text/x-python",
   "name": "python",
   "nbconvert_exporter": "python",
   "pygments_lexer": "ipython3",
   "version": "3.9.13"
  }
 },
 "nbformat": 4,
 "nbformat_minor": 5
}
